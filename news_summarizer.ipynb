{
 "cells": [
  {
   "cell_type": "code",
   "execution_count": 4,
   "id": "cd3b4d55-3568-4c59-822d-24835ec2aa18",
   "metadata": {},
   "outputs": [],
   "source": [
    "import pandas as pd"
   ]
  },
  {
   "cell_type": "code",
   "execution_count": 6,
   "id": "ce6a8fb9-658e-466c-9e61-7b84b76121bd",
   "metadata": {},
   "outputs": [
    {
     "data": {
      "text/html": [
       "<div>\n",
       "<style scoped>\n",
       "    .dataframe tbody tr th:only-of-type {\n",
       "        vertical-align: middle;\n",
       "    }\n",
       "\n",
       "    .dataframe tbody tr th {\n",
       "        vertical-align: top;\n",
       "    }\n",
       "\n",
       "    .dataframe thead th {\n",
       "        text-align: right;\n",
       "    }\n",
       "</style>\n",
       "<table border=\"1\" class=\"dataframe\">\n",
       "  <thead>\n",
       "    <tr style=\"text-align: right;\">\n",
       "      <th></th>\n",
       "      <th>Datetime</th>\n",
       "      <th>headline</th>\n",
       "      <th>source</th>\n",
       "      <th>link</th>\n",
       "    </tr>\n",
       "  </thead>\n",
       "  <tbody>\n",
       "    <tr>\n",
       "      <th>0</th>\n",
       "      <td>2025-05-23 21:35:03</td>\n",
       "      <td>Mexico stocks higher at close of trade; S&amp;P/BM...</td>\n",
       "      <td>Investing.com</td>\n",
       "      <td>https://www.investing.com/news/stock-market-ne...</td>\n",
       "    </tr>\n",
       "    <tr>\n",
       "      <th>1</th>\n",
       "      <td>2025-05-23 21:25:40</td>\n",
       "      <td>Russia stocks lower at close of trade; MOEX Ru...</td>\n",
       "      <td>Investing.com</td>\n",
       "      <td>https://www.investing.com/news/stock-market-ne...</td>\n",
       "    </tr>\n",
       "    <tr>\n",
       "      <th>2</th>\n",
       "      <td>2025-05-23 21:25:03</td>\n",
       "      <td>Colombia stocks higher at close of trade; COLC...</td>\n",
       "      <td>Investing.com</td>\n",
       "      <td>https://www.investing.com/news/stock-market-ne...</td>\n",
       "    </tr>\n",
       "    <tr>\n",
       "      <th>3</th>\n",
       "      <td>2025-05-23 21:18:06</td>\n",
       "      <td>TSX closes mixed amid more Trump trade turmoil</td>\n",
       "      <td>Investing.com</td>\n",
       "      <td>https://www.investing.com/news/stock-market-ne...</td>\n",
       "    </tr>\n",
       "    <tr>\n",
       "      <th>4</th>\n",
       "      <td>2025-05-23 20:30:48</td>\n",
       "      <td>Canada stocks higher at close of trade; S&amp;P/TS...</td>\n",
       "      <td>Investing.com</td>\n",
       "      <td>https://www.investing.com/news/stock-market-ne...</td>\n",
       "    </tr>\n",
       "  </tbody>\n",
       "</table>\n",
       "</div>"
      ],
      "text/plain": [
       "              Datetime                                           headline  \\\n",
       "0  2025-05-23 21:35:03  Mexico stocks higher at close of trade; S&P/BM...   \n",
       "1  2025-05-23 21:25:40  Russia stocks lower at close of trade; MOEX Ru...   \n",
       "2  2025-05-23 21:25:03  Colombia stocks higher at close of trade; COLC...   \n",
       "3  2025-05-23 21:18:06     TSX closes mixed amid more Trump trade turmoil   \n",
       "4  2025-05-23 20:30:48  Canada stocks higher at close of trade; S&P/TS...   \n",
       "\n",
       "          source                                               link  \n",
       "0  Investing.com  https://www.investing.com/news/stock-market-ne...  \n",
       "1  Investing.com  https://www.investing.com/news/stock-market-ne...  \n",
       "2  Investing.com  https://www.investing.com/news/stock-market-ne...  \n",
       "3  Investing.com  https://www.investing.com/news/stock-market-ne...  \n",
       "4  Investing.com  https://www.investing.com/news/stock-market-ne...  "
      ]
     },
     "execution_count": 6,
     "metadata": {},
     "output_type": "execute_result"
    }
   ],
   "source": [
    "df_news_investing = pd.read_csv('./assignment2/GC_news_investing_05242025.csv', index_col=0)\n",
    "df_news_investing.head()"
   ]
  },
  {
   "cell_type": "code",
   "execution_count": 1,
   "id": "e3a6995c-7f56-4ef8-8dc6-60f537722f78",
   "metadata": {},
   "outputs": [],
   "source": [
    "from utils.data_collection import fetch_yfinance_news_data\n",
    "from datetime import datetime, timedelta\n",
    "import pandas as pd\n",
    "from selenium import webdriver\n",
    "from bs4 import BeautifulSoup as bs\n",
    "import time\n",
    "import requests"
   ]
  },
  {
   "cell_type": "code",
   "execution_count": 2,
   "id": "a5024985-06da-4a34-b973-827105546edb",
   "metadata": {},
   "outputs": [],
   "source": [
    "end_time = datetime.now() - timedelta(days=3)"
   ]
  },
  {
   "cell_type": "code",
   "execution_count": 3,
   "id": "34b680de-de77-4605-a0df-5733fc608603",
   "metadata": {},
   "outputs": [
    {
     "name": "stdout",
     "output_type": "stream",
     "text": [
      "News Collecting..."
     ]
    },
    {
     "name": "stderr",
     "output_type": "stream",
     "text": [
      "\n",
      "KeyboardInterrupt\n",
      "\n"
     ]
    }
   ],
   "source": [
    "df_news = fetch_yfinance_news_data(end_time, 1000)"
   ]
  },
  {
   "cell_type": "code",
   "execution_count": null,
   "id": "aa982be1-102b-4ca8-9149-9bad925b8211",
   "metadata": {},
   "outputs": [],
   "source": [
    "df_news['article']"
   ]
  },
  {
   "cell_type": "code",
   "execution_count": 28,
   "id": "c856191e-e1cd-46c8-9ff5-d5884a834c4e",
   "metadata": {},
   "outputs": [],
   "source": []
  },
  {
   "cell_type": "code",
   "execution_count": null,
   "id": "42d92bf7-4473-4f59-8bbb-36b7d3dfc190",
   "metadata": {},
   "outputs": [],
   "source": []
  },
  {
   "cell_type": "code",
   "execution_count": 8,
   "id": "6a887712-b456-4da7-89ae-46fd07175b36",
   "metadata": {},
   "outputs": [],
   "source": [
    "!pip install -q langchain_groq"
   ]
  },
  {
   "cell_type": "code",
   "execution_count": 14,
   "id": "5c0393ac-3889-477b-9a59-38622dc2db82",
   "metadata": {},
   "outputs": [],
   "source": [
    "import os\n",
    "from langchain_community.document_loaders import TextLoader\n",
    "from langchain_ollama import ChatOllama\n",
    "from langchain_groq import ChatGroq\n",
    "from langchain_core.prompts import PromptTemplate\n",
    "from langchain_core.output_parsers import StrOutputParser\n",
    "from langchain_core.runnables import RunnablePassthrough, RunnableMap"
   ]
  },
  {
   "cell_type": "code",
   "execution_count": 37,
   "id": "a73ac5f6-b9af-443a-bb54-42f998d33752",
   "metadata": {},
   "outputs": [],
   "source": [
    "def summarize_news_folder(folder_path):\n",
    "    summaries = []\n",
    "    for filename in os.listdir(folder_path):\n",
    "        if filename.endswith(\".txt\"):\n",
    "            filepath = os.path.join(folder_path, filename)\n",
    "            loader = TextLoader(filepath, encoding=\"utf-8\")\n",
    "            docs = loader.load()\n",
    "            full_text = \"\\n\".join([doc.page_content for doc in docs])\n",
    "            headline = full_text.split('\\n')[0]\n",
    "            content = \"\\n\".join(full_text.split('\\n')[1:])\n",
    "            result = summarization_chain.invoke({\"content\": content})\n",
    "            summaries.append({'article': headline, \n",
    "                              'datetime': filename,\n",
    "                              'comment': result.split('\\n\\n')[-1]})\n",
    "    return summaries"
   ]
  },
  {
   "cell_type": "code",
   "execution_count": 38,
   "id": "b3ee984a-2f13-4c56-8557-8e59a1e56d36",
   "metadata": {},
   "outputs": [],
   "source": [
    "GROQ_API_KEY = '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'\n",
    "\n",
    "llm = ChatOllama(model=\"gemma3\")\n",
    "# llm = ChatGroq(model_name = 'llama3-70b-8192',api_key = os.environ[\"GROQ_API_KEY\"])"
   ]
  },
  {
   "cell_type": "code",
   "execution_count": 39,
   "id": "e10ef273-f7c9-4fc2-9b08-5eb820c0efdd",
   "metadata": {},
   "outputs": [],
   "source": [
    "prompt = PromptTemplate.from_template(\n",
    "    \"\"\"\n",
    "    You are a professional financial agent. \n",
    "    You will be given an article for giving comments on the change on the gold future price.\n",
    "    Summarize the following news article and given comments on the gold future market in 3-4 sentences:\\n\\n{article}. \n",
    "    If the article has no effect, say no effect. Otherwise, briefly tell the effect on the gold future price .\n",
    "    \"\"\"\n",
    ")"
   ]
  },
  {
   "cell_type": "code",
   "execution_count": 40,
   "id": "7c17a2c6-7a8b-4811-9fdd-47e47972fa9e",
   "metadata": {},
   "outputs": [],
   "source": [
    "summarization_chain = (\n",
    "    RunnablePassthrough.assign(article=lambda x: x[\"content\"])\n",
    "    | prompt\n",
    "    | llm\n",
    "    | StrOutputParser()\n",
    ")"
   ]
  },
  {
   "cell_type": "code",
   "execution_count": 41,
   "id": "e52f9f40-8266-4b43-b1e2-41598f3754cc",
   "metadata": {},
   "outputs": [],
   "source": [
    "results = summarize_news_folder('./data/new_summary_test')"
   ]
  },
  {
   "cell_type": "code",
   "execution_count": 43,
   "id": "57fe2818-b564-4157-8d36-bf1b4013740a",
   "metadata": {},
   "outputs": [
    {
     "data": {
      "text/plain": [
       "[{'article': 'Morning Bid: Bond markets in the driver’s seat',\n",
       "  'comment': 'No effect.'},\n",
       " {'article': 'Australia stocks higher at close of trade; S&P/ASX 200 up 0.15%',\n",
       "  'comment': 'The gold futures market experienced a positive movement today, increasing by 0.94% to $3,325.89 per ounce, likely driven by broader market uncertainty as investors become increasingly cautious about stock market valuations.  The article’s mention of elevated stock market valuations and investor unease regarding finding opportunities suggests a flight to safety assets, with gold benefiting from this trend. Furthermore, the rise in gold futures coincides with positive performance in Australian stocks, particularly Perenti Global Ltd, indicating a potential correlation between risk aversion and gold’s appeal as a safe haven.'},\n",
       " {'article': 'Japan stocks higher at close of trade; Nikkei 225 up 0.42%',\n",
       "  'comment': 'The significant rise in June Gold Futures (up 1.02%) indicates a positive shift in sentiment within the gold market. This increase is likely fueled by a combination of factors, including the broader market uncertainty and potentially a desire for safe-haven assets.  While the rise in volatility on the Nikkei 225 suggests broader market nervousness, the gold futures price reaction underscores the ongoing appeal of gold as a protective investment.  We’ll continue to monitor this situation closely, assessing whether this trend persists as other economic indicators are released.'},\n",
       " {'article': 'U.S. federal spending: $100 a second for 2,248 years',\n",
       "  'comment': '**Effect on Gold Future Price:** No effect.'},\n",
       " {'article': 'Indonesia stocks higher at close of trade; IDX Composite Index up 0.45%',\n",
       "  'comment': '“The gold future market experienced a notable upward movement, with the June Gold Futures contract rising by 0.96% to close at $3,326.61 per troy ounce. This increase appears to be driven by a broader commodities rally, as evidenced by the declines in crude oil and Brent oil prices. Furthermore, the attention being drawn to the Indonesian stock market, particularly the strong performance of stocks like FAST, may have contributed to a flight-to-safety sentiment, bolstering demand for gold as a traditional safe-haven asset. We’ll continue to monitor the market closely for further developments.”'},\n",
       " {'article': 'India stocks higher at close of trade; Nifty 50 up 0.99%',\n",
       "  'comment': \"Do you need any further analysis or have another article you'd like me to comment on?\"},\n",
       " {'article': 'Gold prices set for positive week on safe haven buying amid bond market turmoil',\n",
       "  'comment': 'The gold future market is reacting strongly to heightened macroeconomic uncertainty. The concerns regarding U.S. debt levels and the potential for increased government spending are clearly driving investors towards gold as a traditional safe haven. The surge in Chinese gold imports is an additional positive catalyst, demonstrating continued global demand.  While other precious metals like silver and platinum saw gains, the gold market is leading the charge, and I anticipate this trend will continue until there is greater clarity regarding the U.S. debt situation.'},\n",
       " {'article': 'Greece stocks lower at close of trade; Athens General Composite down 1.42%',\n",
       "  'comment': 'Do you want me to analyze another article or perhaps explore a specific aspect of the gold market further?'},\n",
       " {'article': 'Norway stocks higher at close of trade; Oslo OBX up 0.16%',\n",
       "  'comment': 'The substantial increase in the June Gold Futures contract – a 1.95% jump – is a noteworthy development. This surge in gold prices likely reflects a combination of factors, including investor unease with soaring stock valuations and a potential flight to safety amidst market volatility.  It suggests that gold is acting as a safe haven asset, particularly as investors seek alternatives to equities.'},\n",
       " {'article': 'Morocco stocks lower at close of trade; Moroccan All Shares down 0.11%',\n",
       "  'comment': \"The significant 1.95% increase in June Gold Futures to $3,359.10 a troy ounce suggests a positive shift in sentiment towards gold. This rise is likely influenced by a combination of factors, including the broader market uncertainty and a softening US Dollar Index, which traditionally supports gold prices. It's a noteworthy development that warrants monitoring for further indications of investor appetite for safe-haven assets.\"},\n",
       " {'article': 'Turkey stocks lower at close of trade; BIST 100 down 1.26%',\n",
       "  'comment': 'The substantial rise in Gold Futures for June delivery (1.94%) is likely correlated with the overall market volatility and safe-haven demand.  While the article doesn’t explicitly detail the drivers, rising stock market uncertainty and fluctuations in currency pairs like USD/TRY often fuel increased investment in gold as a protective asset. This suggests a potential shift in investor sentiment towards risk aversion. '},\n",
       " {'article': 'Finland stocks lower at close of trade; OMX Helsinki 25 down 1.08%',\n",
       "  'comment': '**Effect:** Positive effect.'},\n",
       " {'article': 'Belgium stocks lower at close of trade; BEL 20 down 1.07%',\n",
       "  'comment': 'The surge in gold futures prices – up 1.95% to $3,359.36 – is likely a reflection of broader market uncertainty. With investors expressing unease about stock valuations and finding opportunities more difficult, gold is acting as a safe-haven asset. The rising crude oil prices and a weakening US Dollar Index further contribute to this environment, driving investors toward gold’s relative stability. Ultimately, the current market dynamics appear to be supporting increased demand for gold futures.'},\n",
       " {'article': 'France stocks lower at close of trade; CAC 40 down 1.65%',\n",
       "  'comment': 'The substantial rise in Gold Futures (1.93%) is directly linked to the news. Generally, increased market volatility, as evidenced by the high VIX reading on the CAC 40 and the overall negative sentiment in the stock market, often fuels demand for safe-haven assets like gold.  Investors seeking refuge from economic uncertainty typically shift funds into gold, driving up its price. Therefore, the negative performance of the European stock market is providing a notable effect on the gold future price. \\n'},\n",
       " {'article': 'Germany stocks lower at close of trade; DAX down 1.61%',\n",
       "  'comment': '**Effect on Gold Future Price:** The article had a positive effect on the gold future price.'},\n",
       " {'article': 'Italy stocks lower at close of trade; Investing.com Italy 40 down 1.96%',\n",
       "  'comment': 'The most notable impact from this news is a strong upward movement in the June Gold Futures contract, rising by 1.91% to $3,358.09. This increase likely reflects a flight to safety driven by the broader market weakness in Italy and the associated uncertainty.  Investors often seek gold as a safe-haven asset during periods of economic or geopolitical instability, and this appears to be playing out in the gold future market.  It’s a clear indicator that risk aversion is currently a significant factor.'},\n",
       " {'article': 'Netherlands stocks lower at close of trade; AEX down 1.03%',\n",
       "  'comment': \"The sharp increase in the June Gold Futures contract – a 1.90% rise to $3,357.51 – is a clear indication of increased buying pressure. This surge likely reflects a flight to safety amid uncertainty in the broader market, as evidenced by the stock market’s weakness and the emphasis on identifying undervalued assets.  It suggests investors are seeking the traditional safe-haven properties of gold, potentially driven by concerns about market corrections and a desire for diversification. We'll be closely monitoring this trend alongside macroeconomic indicators for further insight.\"},\n",
       " {'article': 'Portugal stocks lower at close of trade; PSI down 0.61%',\n",
       "  'comment': 'The gold future market experienced a significant upward movement, closing at $3,358.86 per ounce – a 1.94% increase. This surge is primarily driven by the strong performance of the June Gold Futures contract, which rose sharply. The positive movement in gold futures suggests a potential shift in investor sentiment, possibly fueled by a search for safe-haven assets amidst market uncertainty, or perhaps a reaction to broader economic data.  It’s worth noting the article’s promotional content regarding “ProPicks” did not directly influence the gold price movement.'},\n",
       " {'article': 'Spain stocks lower at close of trade; IBEX 35 down 1.33%',\n",
       "  'comment': 'The substantial increase in gold futures prices – up 1.91% – suggests a potential shift in investor sentiment. This rise likely reflects a flight to safety amid market uncertainty, potentially fueled by concerns surrounding the banking sector’s performance highlighted in the article. The strong performance of gold futures indicates a desire for a traditional safe-haven asset, which could persist until market confidence is restored.'},\n",
       " {'article': 'U.K. stocks lower at close of trade; Investing.com United Kingdom 100 down 0.26%',\n",
       "  'comment': 'The strong performance of Gold Futures, up significantly on the day, suggests a potential shift in investor sentiment. This increase likely reflects a flight to safety amid broader market uncertainty, as evidenced by the weaker performance of UK equities. It’s possible that rising interest rate fears and economic slowdown concerns are driving demand for gold as a traditional safe haven asset.  Without a change in the underlying economic landscape, this effect should be temporary.'},\n",
       " {'article': 'Global equity funds post their biggest weekly outflow in six weeks',\n",
       "  'comment': 'The outflows from global equity funds, coupled with the increased concern about U.S. debt and rising Treasury yields, are exerting downward pressure on the gold future market. As risk aversion rises, gold, traditionally seen as a safe-haven asset, is losing its appeal. We’re seeing a third consecutive week of redemptions, suggesting investors are re-evaluating their gold holdings in light of the broader macroeconomic uncertainty and the preference for fixed income. The market is likely to remain sensitive to developments in U.S. fiscal policy and Treasury yields.'},\n",
       " {'article': 'Brazil stocks higher at close of trade; Bovespa up 0.40%',\n",
       "  'comment': 'The Brazilian stock market (Bovespa) experienced a positive day, driven primarily by gains in sectors like Real Estate and Utilities, with Direcional Engenharia reaching all-time highs. While broader market sentiment was bullish, the notable negative performance of Azzas 2154 SA (AZZA3) warrants attention. Notably, Gold Futures for June delivery saw a significant increase of 2.00%, closing at $3,361.06 per ounce, likely influenced by the overall risk-off sentiment and potentially reflecting a safe-haven demand for gold amidst market volatility. This rise in gold futures suggests investors are seeking stability during a period of fluctuating commodity prices and market uncertainty.'},\n",
       " {'article': 'Canada stocks higher at close of trade; S&P/TSX Composite up 0.10%',\n",
       "  'comment': 'The surge in gold futures prices for June delivery, up 2.01% to $3,361.29, is largely driven by heightened market volatility as investors express unease about overvalued stocks. This increase is likely fueled by the rising VIX (4.81%) which indicates increased fear and uncertainty within the broader market, prompting a flight to safe-haven assets like gold. Furthermore, the strong performance of energy stocks, particularly Denison Mines Corp (DML) – a significant gold producer – is contributing to this positive movement within the gold futures market. '},\n",
       " {'article': 'TSX closes mixed amid more Trump trade turmoil',\n",
       "  'comment': 'The gold future market experienced a significant rally on Friday, driven by heightened trade uncertainty and renewed tariff threats from the U.S. President. Investors sought refuge in gold as geopolitical tensions escalated, leading to a 1.9% increase in gold futures to $3,357.94/oz. This movement reflects a classic safe-haven demand response, particularly as concerns about U.S.-EU trade relations and broader global economic instability emerged. While broader market declines in the U.S. and slight dips in crude oil prices had no direct effect, the heightened risk sentiment fueled a substantial surge in gold futures. '},\n",
       " {'article': 'Colombia stocks higher at close of trade; COLCAP up 0.82%',\n",
       "  'comment': '“The rise in the June Gold Futures contract, up 1.89% to $3,357.20, represents a notable positive development for the gold market. This increase is likely driven by broader market uncertainty, as evidenced by the decline in the US Dollar Index Futures. Furthermore, the fall in US coffee and cocoa futures may also be contributing to a flight to safe-haven assets like gold. It’s a situation worth monitoring closely within the gold future market.”'},\n",
       " {'article': 'Russia stocks lower at close of trade; MOEX Russia Index down 0.75%',\n",
       "  'comment': '“The surge in gold futures prices – up 1.89% to $3,357.20 – is likely driven by broader market volatility, as evidenced by the increase in the Russian Volatility Index (RVI). While the Russian stock market experienced negative performance overall, positive movements in key sectors like mining and utilities provided some support. This increased uncertainty, coupled with rising crude oil prices, often acts as a catalyst for gold as a safe-haven asset. Therefore, the gold future price increase suggests a cautious market sentiment and a desire for stability.”'},\n",
       " {'article': 'Mexico stocks higher at close of trade; S&P/BMV IPC up 0.89%',\n",
       "  'comment': 'The substantial increase in gold futures (1.89%) is likely correlated with the broader market uncertainty. Rising crude oil prices and a weakening USD often support gold as a safe-haven asset, and the overall positive sentiment in the Mexican stock market, particularly the strong performance of Qualitas Controladora, could be contributing to increased investor appetite for precious metals.  Therefore, the rise in gold futures is a positive signal.'}]"
      ]
     },
     "execution_count": 43,
     "metadata": {},
     "output_type": "execute_result"
    }
   ],
   "source": [
    "results"
   ]
  },
  {
   "cell_type": "code",
   "execution_count": null,
   "id": "0d13c79e-57a6-4509-b451-8115d8cb37f3",
   "metadata": {},
   "outputs": [],
   "source": []
  }
 ],
 "metadata": {
  "kernelspec": {
   "display_name": "Python 3 (ipykernel)",
   "language": "python",
   "name": "python3"
  },
  "language_info": {
   "codemirror_mode": {
    "name": "ipython",
    "version": 3
   },
   "file_extension": ".py",
   "mimetype": "text/x-python",
   "name": "python",
   "nbconvert_exporter": "python",
   "pygments_lexer": "ipython3",
   "version": "3.10.16"
  }
 },
 "nbformat": 4,
 "nbformat_minor": 5
}
